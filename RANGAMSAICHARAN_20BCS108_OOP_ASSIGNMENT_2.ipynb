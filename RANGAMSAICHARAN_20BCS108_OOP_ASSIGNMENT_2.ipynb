{
  "nbformat": 4,
  "nbformat_minor": 0,
  "metadata": {
    "colab": {
      "name": "RANGAMSAICHARAN_20BCS108_OOP ASSIGNMENT 2",
      "provenance": [],
      "authorship_tag": "ABX9TyNY5uhv6k0Bqxa2j+FEnBUc",
      "include_colab_link": true
    },
    "kernelspec": {
      "name": "python3",
      "display_name": "Python 3"
    },
    "language_info": {
      "name": "python"
    }
  },
  "cells": [
    {
      "cell_type": "markdown",
      "metadata": {
        "id": "view-in-github",
        "colab_type": "text"
      },
      "source": [
        "<a href=\"https://colab.research.google.com/github/rangamsaicharan/RANGAMSAICHARAN_20BCS108_OOP-ASSIGNMENT-2/blob/main/RANGAMSAICHARAN_20BCS108_OOP_ASSIGNMENT_2.ipynb\" target=\"_parent\"><img src=\"https://colab.research.google.com/assets/colab-badge.svg\" alt=\"Open In Colab\"/></a>"
      ]
    },
    {
      "cell_type": "code",
      "metadata": {
        "colab": {
          "base_uri": "https://localhost:8080/"
        },
        "id": "XcXk2CDJL5d1",
        "outputId": "b55470fe-8787-4131-e3db-b571831cb16f"
      },
      "source": [
        "class circle():\n",
        "  def __init__ (self,radius):\n",
        "    self.radius = radius\n",
        "  def area(self):\n",
        "    return 3.14*(self.radius**2)\n",
        "  def perimeter(self):\n",
        "    return 2*3.14*self.radius\n",
        "\n",
        "rad = int(input(\"Enter the radius of a circle : \"))\n",
        "c =circle(rad)\n",
        "print(c.area())\n",
        "print(c.perimeter())"
      ],
      "execution_count": null,
      "outputs": [
        {
          "output_type": "stream",
          "name": "stdout",
          "text": [
            "Enter the radius of a circle : 6\n",
            "113.04\n",
            "37.68\n"
          ]
        }
      ]
    },
    {
      "cell_type": "code",
      "metadata": {
        "colab": {
          "base_uri": "https://localhost:8080/"
        },
        "id": "HTg6Om2kQ5t0",
        "outputId": "e91f0112-4918-44de-969a-d72e3303eeb6"
      },
      "source": [
        "name = []\n",
        "emp_id = []\n",
        "branch = []\n",
        "salary = []\n",
        "n = int(input(\"Enter number of elements in a list :\"))\n",
        "for i in range(0,n):\n",
        "  fac_name = input(\"Enter name of faculty : \")\n",
        "  fac_emp_id = input(\"Enter emp id : \")\n",
        "  fac_branch = input(\"Enter the branch of the faculty : \")\n",
        "  fac_salary = input(\"Enter salary of the faculty : \")\n",
        "  name.append(fac_name)\n",
        "  emp_id.append(fac_emp_id)\n",
        "  branch.append(fac_branch)\n",
        "  salary.append(fac_salary)\n",
        "\n",
        "print(\"\\nDetails of the\" ,n ,\"faculties are :\")\n",
        "for j in range(0,n):\n",
        "    print(name[j],emp_id[j],branch[j],salary[j])"
      ],
      "execution_count": null,
      "outputs": [
        {
          "output_type": "stream",
          "name": "stdout",
          "text": [
            "Enter number of elements in a list :5\n",
            "Enter name of faculty : ashwin\n",
            "Enter emp id : 45\n",
            "Enter the branch of the faculty : science\n",
            "Enter salary of the faculty : 45,000\n",
            "Enter name of faculty : raghu\n",
            "Enter emp id : 55\n",
            "Enter the branch of the faculty : science\n",
            "Enter salary of the faculty : 65,000\n",
            "Enter name of faculty : praveen\n",
            "Enter emp id : 66\n",
            "Enter the branch of the faculty : social\n",
            "Enter salary of the faculty : 50,000\n",
            "Enter name of faculty : kashinath\n",
            "Enter emp id : 33\n",
            "Enter the branch of the faculty : english\n",
            "Enter salary of the faculty : 40,000\n",
            "Enter name of faculty : venkatramana\n",
            "Enter emp id : 12\n",
            "Enter the branch of the faculty : biology\n",
            "Enter salary of the faculty : 45,000\n",
            "\n",
            "Details of the 5 faculties are :\n",
            "ashwin 45 science 45,000\n",
            "raghu 55 science 65,000\n",
            "praveen 66 social 50,000\n",
            "kashinath 33 english 40,000\n",
            "venkatramana 12 biology 45,000\n"
          ]
        }
      ]
    },
    {
      "cell_type": "code",
      "metadata": {
        "colab": {
          "base_uri": "https://localhost:8080/"
        },
        "id": "VSS9iNyvmqjj",
        "outputId": "d41cb340-6f9c-410e-844a-dcc4a8eac301"
      },
      "source": [
        "class account:\n",
        "  def __init__(self,Acc_no,Acc_holder_name,Amount):\n",
        "    self.number = Acc_no\n",
        "    self.name = Acc_holder_name\n",
        "    self.amount = Amount\n",
        "  def Deposit(self,Amount):\n",
        "    self.amount += Amount\n",
        "  def Withdraw(self,Amount):\n",
        "    if Amount > self.amount:\n",
        "      print(\"Insufficient balance\")\n",
        "      exit\n",
        "    else:\n",
        "      self.amount -= Amount\n",
        "  def Checkbalance(self):\n",
        "    print(self.amount)\n",
        "  def Accountdetails(self):\n",
        "    print(\"Account details are:\")\n",
        "    print(self.number,self.name,self.amount)\n",
        "  \n",
        "acc = account(\"140810\",\"kundan\",4300)\n",
        "acc.Deposit(350)\n",
        "acc.Withdraw(700)\n",
        "acc.Checkbalance()\n",
        "acc.Accountdetails()"
      ],
      "execution_count": null,
      "outputs": [
        {
          "output_type": "stream",
          "name": "stdout",
          "text": [
            "3950\n",
            "Account details are:\n",
            "140810 kundan 3950\n"
          ]
        }
      ]
    },
    {
      "cell_type": "code",
      "metadata": {
        "colab": {
          "base_uri": "https://localhost:8080/"
        },
        "id": "ha1Im1dIqj5K",
        "outputId": "e9b4742a-cd7d-4c54-c1fd-aa8562e20034"
      },
      "source": [
        "def display():\n",
        "  print(name,USN)\n",
        "  for i in range(0,3):\n",
        "    print(subjects[i] , \"-\" ,marks[i])\n",
        "\n",
        "subjects = []\n",
        "marks = []\n",
        "name = input(\"Enter the name of the student : \")\n",
        "USN = input(\"Enter USN of the student : \")\n",
        "for j in range(0,3):\n",
        "  subject  = input(\"Enter name of the subject : \")\n",
        "  subjects.append(subject)\n",
        "  mark = input(\"Enter the mark of the subject : \")\n",
        "  marks.append(mark)\n",
        "\n",
        "display()"
      ],
      "execution_count": null,
      "outputs": [
        {
          "output_type": "stream",
          "name": "stdout",
          "text": [
            "Enter the name of the student : nandan reddy\n",
            "Enter USN of the student : 11\n",
            "Enter name of the subject : english\n",
            "Enter the mark of the subject : 93\n",
            "Enter name of the subject : maths\n",
            "Enter the mark of the subject : 86\n",
            "Enter name of the subject : social\n",
            "Enter the mark of the subject : 98\n",
            "nandan reddy 11\n",
            "english - 93\n",
            "maths - 86\n",
            "social - 98\n"
          ]
        }
      ]
    },
    {
      "cell_type": "code",
      "metadata": {
        "colab": {
          "base_uri": "https://localhost:8080/"
        },
        "id": "OyyANHuU3gKc",
        "outputId": "52d1c256-61a0-4380-ca9a-a76ba11b1b91"
      },
      "source": [
        "class Patient:\n",
        "  def __init__(self, name, admission_date, symptoms : list, oxygen_level, discharge_date):\n",
        "    self.name = name\n",
        "    self.admission_date = admission_date\n",
        "    self.symptoms = symptoms\n",
        "    self.oxygen_level = oxygen_level\n",
        "    self.discharge_date = discharge_date\n",
        "\n",
        "class Data:\n",
        "  def __init__(self):\n",
        "    self.oxygen_support = []\n",
        "    self.general_ward = []\n",
        "\n",
        "  def Patient(self, patient):\n",
        "    if (patient.oxygen_level < 90):\n",
        "      self.oxygen_support.append(patient)\n",
        "    else:\n",
        "      self.general_ward.append(patient)\n",
        "\n",
        "  def numberOxygen(self):\n",
        "    print(f\"Totaal number of patients needing oxygen support is {len(self.oxygen_support)}\")\n",
        "\n",
        "  def numberGeneral(self):\n",
        "    print(f\"Total number of patients in general ward is {len(self.general_ward)}\")\n",
        "\n",
        "  def totalPatients(self):\n",
        "    print(f\"Total number of patients is {len(self.general_ward)+len(self.oxygen_support)}\")\n",
        "\n",
        "  def patientInfo(self):\n",
        "    print(\"***Patients in oxygen support***\")\n",
        "    for patient in self.oxygen_support:\n",
        "      print(\"\\n\")\n",
        "      print(\"Name:\", patient.name)\n",
        "      print(\"Admission Date:\", patient.admission_date)\n",
        "      print(\"symptoms:\", patient.symptoms)\n",
        "      print(\"oxygen level:\", patient.oxygen_level)\n",
        "      print(\"Discharge Date:\", patient.discharge_date)\n",
        "      print(\"\\n\")\n",
        "\n",
        "    print(\"***Patients in General ward***\")\n",
        "    for patient in self.general_ward:\n",
        "      print(\"\\n\")\n",
        "      print(\"Name:\", patient.name)\n",
        "      print(\"Admission Date:\", patient.admission_date)\n",
        "      print(\"symptoms:\", patient.symptoms)\n",
        "      print(\"oxygen level:\", patient.oxygen_level)\n",
        "      print(\"Discharge Date:\", patient.discharge_date)\n",
        "      print(\"\\n\")\n",
        "\n",
        "patient1 = Patient(\"dhoni\", \"10/09/2021\", [\"Fever\", \"Body Pains\"], 70, \"13/09/2021\")\n",
        "patient2 = Patient(\"gaikwad\", \"14/09/2021\", [\"Headache\", \"Fever\"], 90, \"17/09/2021\")\n",
        "patient3 = Patient(\"raina\", \"17/09/2021\", [\"Stomach Pain\", \"Loose Motion\"], 120, \"21/09/2021\")\n",
        "patient4 = Patient(\"rayudu\", \"25/09/2021\", [\"Low Platelet Count\", \"Blood Vomiting\"], 90, \"30/09/2021\")\n",
        "\n",
        "db = Data()\n",
        "db.Patient(patient1)\n",
        "db.Patient(patient2)\n",
        "db.Patient(patient3)\n",
        "db.Patient(patient4)\n",
        "db.patientInfo()\n",
        "db.numberOxygen()\n",
        "db.numberGeneral()\n",
        "db.totalPatients()"
      ],
      "execution_count": null,
      "outputs": [
        {
          "output_type": "stream",
          "name": "stdout",
          "text": [
            "***Patients in oxygen support***\n",
            "\n",
            "\n",
            "Name: dhoni\n",
            "Admission Date: 10/09/2021\n",
            "symptoms: ['Fever', 'Body Pains']\n",
            "oxygen level: 70\n",
            "Discharge Date: 13/09/2021\n",
            "\n",
            "\n",
            "***Patients in General ward***\n",
            "\n",
            "\n",
            "Name: gaikwad\n",
            "Admission Date: 14/09/2021\n",
            "symptoms: ['Headache', 'Fever']\n",
            "oxygen level: 90\n",
            "Discharge Date: 17/09/2021\n",
            "\n",
            "\n",
            "\n",
            "\n",
            "Name: raina\n",
            "Admission Date: 17/09/2021\n",
            "symptoms: ['Stomach Pain', 'Loose Motion']\n",
            "oxygen level: 120\n",
            "Discharge Date: 21/09/2021\n",
            "\n",
            "\n",
            "\n",
            "\n",
            "Name: rayudu\n",
            "Admission Date: 25/09/2021\n",
            "symptoms: ['Low Platelet Count', 'Blood Vomiting']\n",
            "oxygen level: 90\n",
            "Discharge Date: 30/09/2021\n",
            "\n",
            "\n",
            "Totaal number of patients needing oxygen support is 1\n",
            "Total number of patients in general ward is 3\n",
            "Total number of patients is 4\n"
          ]
        }
      ]
    },
    {
      "cell_type": "code",
      "metadata": {
        "colab": {
          "base_uri": "https://localhost:8080/"
        },
        "id": "sH0AhVnP1Fn8",
        "outputId": "86b5122a-7810-41a2-ba47-8de30c76a121"
      },
      "source": [
        "class time():\n",
        "  def __init__(self,hour,minutes,seconds):\n",
        "    self.hour=hour\n",
        "    self.minutes=minutes\n",
        "    self.seconds=seconds\n",
        "  def display(self):\n",
        "    print(self.hour,\":\",self.minutes,\":\",self.seconds)\n",
        "time1= time(10,30,15)\n",
        "time1.display()"
      ],
      "execution_count": null,
      "outputs": [
        {
          "output_type": "stream",
          "name": "stdout",
          "text": [
            "10 : 30 : 15\n"
          ]
        }
      ]
    },
    {
      "cell_type": "code",
      "metadata": {
        "colab": {
          "base_uri": "https://localhost:8080/"
        },
        "id": "FHCeSR9o16fE",
        "outputId": "728714c1-39c3-47d8-c76e-20f97ec24253"
      },
      "source": [
        "class students:\n",
        " std1=[\"Rahul\",21,33]\n",
        " std2=[\"Rohit\",22,74]\n",
        "\n",
        " def compare(self):\n",
        "   if self.std1[2] == self.std2[2] :\n",
        "    print(\"EQUAL\")\n",
        "   else :\n",
        "    print(\"UNEQUAL\")\n",
        "\n",
        "obj=students()\n",
        "obj.compare() "
      ],
      "execution_count": null,
      "outputs": [
        {
          "output_type": "stream",
          "name": "stdout",
          "text": [
            "UNEQUAL\n"
          ]
        }
      ]
    },
    {
      "cell_type": "code",
      "metadata": {
        "colab": {
          "base_uri": "https://localhost:8080/"
        },
        "id": "4U6cNMe44f2i",
        "outputId": "026dd185-7fd3-4485-8509-7fa43c12a87a"
      },
      "source": [
        "class Student:\n",
        "    sem = 3\n",
        "    institute = \"IIIT Dharwad\"\n",
        "    \n",
        "    def setData(self):\n",
        "        self.name = input(\"Enter the name of the student : \")\n",
        "        self.id = int(input(\"Enter the USN of student : \"))\n",
        "\n",
        "    def getInstanceData(self):\n",
        "        print(f\"Name : {self.name} \\nUSN = {self.id}\")\n",
        "\n",
        "    @classmethod\n",
        "    def getClassData(cls):\n",
        "        print(f\"Semester : {cls.sem} \\nInstitute : {cls.institute} \\n\")\n",
        "\n",
        "    @staticmethod\n",
        "    def getExplanation():\n",
        "        print(\"Class variables namely sem and institute are printed using ClassMethod and Instance variables namely name and id are printed using Instance Method\")\n",
        "\n",
        "\n",
        "s1 = Student()\n",
        "s1.setData()\n",
        "s1.getInstanceData()\n",
        "Student.getClassData()\n",
        "Student.getExplanation()"
      ],
      "execution_count": null,
      "outputs": [
        {
          "output_type": "stream",
          "name": "stdout",
          "text": [
            "Enter the name of the student : sai charan\n",
            "Enter the USN of student : 108\n",
            "Name : sai charan \n",
            "USN = 108\n",
            "Semester : 3 \n",
            "Institute : IIIT Dharwad \n",
            "\n",
            "Class variables namely sem and institute are printed using ClassMethod and Instance variables namely name and id are printed using Instance Method\n"
          ]
        }
      ]
    },
    {
      "cell_type": "code",
      "metadata": {
        "colab": {
          "base_uri": "https://localhost:8080/"
        },
        "id": "H3aStyxP5_9X",
        "outputId": "53c4e866-4c74-4c2e-b943-09b850345823"
      },
      "source": [
        "class student:\n",
        "  def __init__(self,name,roll,sem):\n",
        "    self.name=name\n",
        "    self.roll=roll\n",
        "    self.sem=sem\n",
        "    self.lap=self.laptop()\n",
        "\n",
        "  def show(self):\n",
        "    print(self.name,self.roll,self.sem)\n",
        "    self.lap.show()\n",
        "\n",
        "  class laptop:\n",
        "    def __init__(self):\n",
        "      self.brand='DELL'\n",
        "      self.cpu='i7'\n",
        "      self.ram=16\n",
        "\n",
        "    def show(self):\n",
        "      print(self.brand,self.cpu,self.ram)\n",
        "\n",
        "stud1=student('saicharan',108,3)\n",
        "\n",
        "stud1.show()"
      ],
      "execution_count": null,
      "outputs": [
        {
          "output_type": "stream",
          "name": "stdout",
          "text": [
            "saicharan 108 3\n",
            "DELL i7 16\n"
          ]
        }
      ]
    }
  ]
}